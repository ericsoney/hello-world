{
 "cells": [
  {
   "cell_type": "markdown",
   "metadata": {
    "deletable": false,
    "editable": false,
    "nbgrader": {
     "checksum": "b9cf70e637404d39dc80f68ec6052714",
     "grade": false,
     "grade_id": "cell-a1074db8df6f1b66",
     "locked": true,
     "schema_version": 1,
     "solution": false
    }
   },
   "source": [
    "# Module 1 Assignment"
   ]
  },
  {
   "cell_type": "markdown",
   "metadata": {
    "deletable": false,
    "editable": false,
    "nbgrader": {
     "checksum": "446fdb89f1d76e03ee8585374e4efe05",
     "grade": false,
     "grade_id": "cell-4ff11c8f57c77418",
     "locked": true,
     "schema_version": 1,
     "solution": false
    }
   },
   "source": [
    "**Note**: This analysis uses several large data sets related to the airline industry. To import these data sets, we use a python package called `pandas`. This package will be covered later on in the course, but for now, you can safely run the code in the cells below to import the data without worrying too much about how it works.\n",
    "\n",
    "The next two cells make sure you have pandas installed in your environment. Don't worry about understanding this code."
   ]
  },
  {
   "cell_type": "code",
   "execution_count": 1,
   "metadata": {
    "deletable": false,
    "editable": false,
    "nbgrader": {
     "checksum": "8c3881d90cd4495afb054779e8041e25",
     "grade": false,
     "grade_id": "cell-b406b92268ba9e52",
     "locked": true,
     "schema_version": 1,
     "solution": false
    }
   },
   "outputs": [
    {
     "name": "stdout",
     "output_type": "stream",
     "text": [
      "Collecting pandas\n",
      "\u001b[?25l  Downloading https://files.pythonhosted.org/packages/c3/e2/00cacecafbab071c787019f00ad84ca3185952f6bb9bca9550ed83870d4d/pandas-1.1.5-cp36-cp36m-manylinux1_x86_64.whl (9.5MB)\n",
      "\u001b[K     |████████████████████████████████| 9.5MB 27.9MB/s eta 0:00:01\n",
      "\u001b[?25hRequirement already satisfied: python-dateutil>=2.7.3 in /usr/local/lib/python3.6/dist-packages (from pandas) (2.8.0)\n",
      "Requirement already satisfied: numpy>=1.15.4 in /usr/local/lib/python3.6/dist-packages (from pandas) (1.16.3)\n",
      "Collecting pytz>=2017.2 (from pandas)\n",
      "\u001b[?25l  Downloading https://files.pythonhosted.org/packages/d3/e3/d9f046b5d1c94a3aeab15f1f867aa414f8ee9d196fae6865f1d6a0ee1a0b/pytz-2021.3-py2.py3-none-any.whl (503kB)\n",
      "\u001b[K     |████████████████████████████████| 512kB 68.5MB/s eta 0:00:01\n",
      "\u001b[?25hRequirement already satisfied: six>=1.5 in /usr/lib/python3/dist-packages (from python-dateutil>=2.7.3->pandas) (1.11.0)\n",
      "Installing collected packages: pytz, pandas\n",
      "\u001b[31mERROR: Could not install packages due to an EnvironmentError: [Errno 13] Permission denied: '/usr/local/lib/python3.6/dist-packages/pytz'\n",
      "Consider using the `--user` option or check the permissions.\n",
      "\u001b[0m\n",
      "\u001b[33mWARNING: You are using pip version 19.1.1, however version 21.3.1 is available.\n",
      "You should consider upgrading via the 'pip install --upgrade pip' command.\u001b[0m\n"
     ]
    }
   ],
   "source": [
    "import sys\n",
    "!{sys.executable} -m pip install pandas"
   ]
  },
  {
   "cell_type": "code",
   "execution_count": null,
   "metadata": {
    "deletable": false,
    "editable": false,
    "nbgrader": {
     "checksum": "781dabf17f5eef7238a0019b25212dec",
     "grade": false,
     "grade_id": "cell-7327a923fe31d7c3",
     "locked": true,
     "schema_version": 1,
     "solution": false
    }
   },
   "outputs": [],
   "source": [
    "import pandas as pd"
   ]
  },
  {
   "cell_type": "markdown",
   "metadata": {
    "deletable": false,
    "editable": false,
    "nbgrader": {
     "checksum": "f72d476de733b6448aa936cee0a3b041",
     "grade": false,
     "grade_id": "cell-122b21c821504f6f",
     "locked": true,
     "schema_version": 1,
     "solution": false
    }
   },
   "source": [
    "### Airline Customer Analysis\n",
    "Imagine you work as a Senior Analyst for a major global airline and are asked to identify the highest revenue generating customers for each major airline in your industry. In the following assignment, we will go through an exercise in Python to find the top 5 customers in terms of revenue for each airline in the data set. First, we will import the data and display each data set as a dictionary below."
   ]
  },
  {
   "cell_type": "code",
   "execution_count": null,
   "metadata": {
    "deletable": false,
    "editable": false,
    "nbgrader": {
     "checksum": "b8bf6c32e1a6995336ff38a226c9369a",
     "grade": false,
     "grade_id": "cell-938b0acbbcaf4c1f",
     "locked": true,
     "schema_version": 1,
     "solution": false
    }
   },
   "outputs": [],
   "source": [
    "# create a variable that points to where the data set is located on this server\n",
    "PATH = '../../Airline-Analysis-Starter.xlsx'"
   ]
  },
  {
   "cell_type": "code",
   "execution_count": null,
   "metadata": {
    "deletable": false,
    "editable": false,
    "nbgrader": {
     "checksum": "a73d254bfb961831f26985c0797c0f93",
     "grade": false,
     "grade_id": "cell-7dba3f02f9da032e",
     "locked": true,
     "schema_version": 1,
     "solution": false
    }
   },
   "outputs": [],
   "source": [
    "# import the raw data - you will learn about ways to do this *very* soon!\n",
    "trips = pd.read_excel(PATH, sheet_name='Trips').to_dict(orient='list')\n",
    "passengers = pd.read_excel(PATH, sheet_name='Passengers').to_dict(orient='list')\n",
    "pilots = pd.read_excel(PATH, sheet_name='Pilots').to_dict(orient='list')\n",
    "airports = pd.read_excel(PATH, sheet_name='Airports').to_dict(orient='list')"
   ]
  },
  {
   "cell_type": "markdown",
   "metadata": {
    "deletable": false,
    "editable": false,
    "nbgrader": {
     "checksum": "4c500bdfa78ff58809b0ab19c8070fc9",
     "grade": false,
     "grade_id": "cell-435cf077db089139",
     "locked": true,
     "schema_version": 1,
     "solution": false
    }
   },
   "source": [
    "Each data set is now structured as a Python dictionary. Lets inspect each dictionary, starting with the *Trips* dictionary"
   ]
  },
  {
   "cell_type": "code",
   "execution_count": null,
   "metadata": {
    "deletable": false,
    "editable": false,
    "nbgrader": {
     "checksum": "40529a8aec90a861b57e53e31dd6597b",
     "grade": false,
     "grade_id": "cell-2029918cc387707e",
     "locked": true,
     "schema_version": 1,
     "solution": false
    }
   },
   "outputs": [],
   "source": [
    "# display the type\n",
    "type(trips)"
   ]
  },
  {
   "cell_type": "code",
   "execution_count": null,
   "metadata": {
    "deletable": false,
    "editable": false,
    "nbgrader": {
     "checksum": "7670734cb92d42ac00f4a7f0f5d64ae4",
     "grade": false,
     "grade_id": "cell-441c964e6814f108",
     "locked": true,
     "schema_version": 1,
     "solution": false
    }
   },
   "outputs": [],
   "source": [
    "# display the keys\n",
    "print(trips.keys())"
   ]
  },
  {
   "cell_type": "code",
   "execution_count": null,
   "metadata": {
    "deletable": false,
    "editable": false,
    "nbgrader": {
     "checksum": "9bd9985d5e6b3ebb05881c28549dcdc4",
     "grade": false,
     "grade_id": "cell-f7c270a42ef441f9",
     "locked": true,
     "schema_version": 1,
     "solution": false
    }
   },
   "outputs": [],
   "source": [
    "# display the first value within each key\n",
    "print(\"First value for 'Itinerary':\\t\\t\", trips.get('Itinerary')[0])\n",
    "print(\"First value for 'Pilot ID':\\t\\t\", trips.get('Pilot ID')[0])\n",
    "print(\"First value for 'Pax ID':\\t\\t\", trips.get('Pax ID')[0])\n",
    "print(\"First value for 'Departure Station':\\t\", trips.get('Departure Station')[0])\n",
    "print(\"First value for 'Arrival Station':\\t\", trips.get('Arrival Station')[0])\n",
    "print(\"First value for 'Fare':\\t\\t\\t\", trips.get('Fare')[0])"
   ]
  },
  {
   "cell_type": "markdown",
   "metadata": {
    "deletable": false,
    "editable": false,
    "nbgrader": {
     "checksum": "d44b133307c8bb3a0ec786c2e83bb54b",
     "grade": false,
     "grade_id": "cell-93ce7ce0c3b85399",
     "locked": true,
     "schema_version": 1,
     "solution": false
    }
   },
   "source": [
    "Now, let's take a look at the `passengers` dictionary"
   ]
  },
  {
   "cell_type": "code",
   "execution_count": null,
   "metadata": {
    "deletable": false,
    "editable": false,
    "nbgrader": {
     "checksum": "57c931165045469889ee06b01d2bc73e",
     "grade": false,
     "grade_id": "cell-4df1c8d60a5f24b9",
     "locked": true,
     "schema_version": 1,
     "solution": false
    }
   },
   "outputs": [],
   "source": [
    "print(passengers.keys())"
   ]
  },
  {
   "cell_type": "code",
   "execution_count": null,
   "metadata": {
    "deletable": false,
    "editable": false,
    "nbgrader": {
     "checksum": "2fb8f4b62d9ebe0d87fdb8d3adfec0d1",
     "grade": false,
     "grade_id": "cell-ce53bf6e35644d68",
     "locked": true,
     "schema_version": 1,
     "solution": false
    }
   },
   "outputs": [],
   "source": [
    "print(\"First value for 'Passenger ID':\\t\", passengers.get('Passenger ID')[0])\n",
    "print(\"First value for 'Name':\\t\\t\", passengers.get('Name')[0])"
   ]
  },
  {
   "cell_type": "markdown",
   "metadata": {
    "deletable": false,
    "editable": false,
    "nbgrader": {
     "checksum": "2f12a12778b5ca8acf88b0dd0e820d74",
     "grade": false,
     "grade_id": "cell-00f4567f055dcda8",
     "locked": true,
     "schema_version": 1,
     "solution": false
    }
   },
   "source": [
    "*Pilots Data*"
   ]
  },
  {
   "cell_type": "code",
   "execution_count": null,
   "metadata": {
    "deletable": false,
    "editable": false,
    "nbgrader": {
     "checksum": "6606dc113ad8e521f61eb731f22bd491",
     "grade": false,
     "grade_id": "cell-ead4a5f0cff12e0b",
     "locked": true,
     "schema_version": 1,
     "solution": false
    }
   },
   "outputs": [],
   "source": [
    "print(pilots.keys())"
   ]
  },
  {
   "cell_type": "code",
   "execution_count": null,
   "metadata": {
    "deletable": false,
    "editable": false,
    "nbgrader": {
     "checksum": "d1266831215fd1e4563461ab1b250297",
     "grade": false,
     "grade_id": "cell-1d3cd529ea2d6ee1",
     "locked": true,
     "schema_version": 1,
     "solution": false
    }
   },
   "outputs": [],
   "source": [
    "print(\"First value for 'Pilot ID':\\t\", pilots.get('Pilot ID')[0])\n",
    "print(\"First value for 'Name':\\t\\t\", pilots.get('Name')[0])\n",
    "print(\"First value for 'Airline':\\t\", pilots.get('Airline')[0])"
   ]
  },
  {
   "cell_type": "code",
   "execution_count": null,
   "metadata": {
    "deletable": false,
    "editable": false,
    "nbgrader": {
     "checksum": "6f341b336e90a1942acca711ab03a91f",
     "grade": false,
     "grade_id": "cell-1c1768f1818ca20b",
     "locked": true,
     "schema_version": 1,
     "solution": false
    }
   },
   "outputs": [],
   "source": [
    "print(airports.keys())"
   ]
  },
  {
   "cell_type": "code",
   "execution_count": null,
   "metadata": {
    "deletable": false,
    "editable": false,
    "nbgrader": {
     "checksum": "ccce3acd7cf55c551146b15ae3e8a32b",
     "grade": false,
     "grade_id": "cell-d2f235ef762b2d16",
     "locked": true,
     "schema_version": 1,
     "solution": false
    }
   },
   "outputs": [],
   "source": [
    "print(\"First value for 'Airport Code':\\t\", airports.get('Airport Code')[0])\n",
    "print(\"First value for 'State':\\t\", airports.get('State')[0])\n",
    "print(\"First value for 'City':\\t\\t\", airports.get('City')[0])"
   ]
  },
  {
   "cell_type": "markdown",
   "metadata": {
    "deletable": false,
    "editable": false,
    "nbgrader": {
     "checksum": "741f4cff517604dedbe424bf046d662c",
     "grade": false,
     "grade_id": "cell-8b3b57dd253a2b98",
     "locked": true,
     "schema_version": 1,
     "solution": false
    }
   },
   "source": [
    "### The `airports` dictionary\n",
    "\n",
    "Let's take a deeper dive into the `airports` dictionary.\n",
    "\n",
    "The keys of each dictionary are strings. We can use these strings to access the values contained within each key."
   ]
  },
  {
   "cell_type": "code",
   "execution_count": null,
   "metadata": {
    "deletable": false,
    "editable": false,
    "nbgrader": {
     "checksum": "d532ac1130553ed3c2ae579ac2fce107",
     "grade": false,
     "grade_id": "cell-ab9b70c6f21ce9bd",
     "locked": true,
     "schema_version": 1,
     "solution": false
    }
   },
   "outputs": [],
   "source": [
    "airports.keys()"
   ]
  },
  {
   "cell_type": "code",
   "execution_count": null,
   "metadata": {
    "deletable": false,
    "editable": false,
    "nbgrader": {
     "checksum": "0f8c590101b3a52eb4fba5126d9ac3f2",
     "grade": false,
     "grade_id": "cell-0958b946233a7d8a",
     "locked": true,
     "schema_version": 1,
     "solution": false
    }
   },
   "outputs": [],
   "source": [
    "# the code below prints the *value* associated with the `Airport Code` key within airports dictionary\n",
    "print(airports.get('Airport Code'))"
   ]
  },
  {
   "cell_type": "code",
   "execution_count": null,
   "metadata": {
    "deletable": false,
    "editable": false,
    "nbgrader": {
     "checksum": "a26bcacd7f38c4f361cf2b845b8f0a5c",
     "grade": false,
     "grade_id": "cell-14378078ecdc0de4",
     "locked": true,
     "schema_version": 1,
     "solution": false
    }
   },
   "outputs": [],
   "source": [
    "print(airports.get('City'))"
   ]
  },
  {
   "cell_type": "markdown",
   "metadata": {
    "deletable": false,
    "editable": false,
    "nbgrader": {
     "checksum": "343b0d5c0f28f9320b7742cbf0baee5e",
     "grade": false,
     "grade_id": "cell-f9db30ec5215bddc",
     "locked": true,
     "schema_version": 1,
     "solution": false
    }
   },
   "source": [
    "As you can see from above, the value associated with each key is a *list* of *strings* that represent a particular column of data.\n",
    "\n",
    "Using the `airports` dictionary as an example, we can see the structure of each dictionary looks like this:\n",
    "\n",
    "```python\n",
    "airports = {\n",
    "    'Airport Code' : ['ABE', 'ABQ', ..., 'XWA'],\n",
    "    'State': ['Pennsylvania', 'New Mexico', ..., 'North Dakota'],\n",
    "    'City': ['Allentown', 'Albuquerque', ..., 'Williston']\n",
    "}\n",
    "```\n",
    "\n",
    "The first question in this assignment will ask you about the `airports` dictionary."
   ]
  },
  {
   "cell_type": "markdown",
   "metadata": {
    "deletable": false,
    "editable": false,
    "nbgrader": {
     "checksum": "f2e0d5f66ebd5dccd5d878cbefb1a0d0",
     "grade": false,
     "grade_id": "cell-1bfbbfab00b4d8e5",
     "locked": true,
     "schema_version": 1,
     "solution": false
    }
   },
   "source": [
    "### Problem 1\n",
    "\n",
    "**5 Points**\n",
    "\n",
    "We are able to access the *value* associated with the `'Airport Code'` key within the `airports` dictionary with either of the following syntax options:\n",
    "\n",
    "- `airports['Airport Code']`\n",
    "- `airports.get('Airport Code')`\n",
    "\n",
    "We know the data type of `airports` is a dictionary, but what is the data type of the value associated with the `Airport Code` key? We can find out the type by using the builtin `type()` function. This function will accept an object as input and return the data type of that object. Finish using the `type()` function below by using it to determine the data type of `airports['Airport Code']`. Assign what is returned by the function to the variable `ans1`."
   ]
  },
  {
   "cell_type": "code",
   "execution_count": null,
   "metadata": {
    "deletable": false,
    "nbgrader": {
     "checksum": "ac6c8f96e4a2dc491fa830cd64516d8e",
     "grade": false,
     "grade_id": "cell-50bf80d222c62507",
     "locked": false,
     "schema_version": 1,
     "solution": true
    }
   },
   "outputs": [],
   "source": [
    "### GRADED\n",
    "\n",
    "### YOUR SOLUTION HERE\n",
    "ans1 = type(None) # replace 'None' with airports['Airport Code']\n",
    "\n",
    "# YOUR CODE HERE\n",
    "raise NotImplementedError()\n",
    "\n",
    "# Answer check\n",
    "print(ans1)"
   ]
  },
  {
   "cell_type": "code",
   "execution_count": null,
   "metadata": {
    "deletable": false,
    "editable": false,
    "nbgrader": {
     "checksum": "3a276ab01142e2b04a155a48d2c45c14",
     "grade": true,
     "grade_id": "cell-2e78ed0068f29f57",
     "locked": true,
     "points": 5,
     "schema_version": 1,
     "solution": false
    }
   },
   "outputs": [],
   "source": []
  },
  {
   "cell_type": "markdown",
   "metadata": {
    "deletable": false,
    "editable": false,
    "nbgrader": {
     "checksum": "d387d3ac8ef906bacec9eb747e004e34",
     "grade": false,
     "grade_id": "cell-875bda4100a26b18",
     "locked": true,
     "schema_version": 1,
     "solution": false
    }
   },
   "source": [
    "### The `trips` dictionary\n",
    "\n",
    "Now let's turn our attention to the `trips` dictionary. Let's take a look at the `Fare` key within the `trips` dictionary and display the first item."
   ]
  },
  {
   "cell_type": "code",
   "execution_count": null,
   "metadata": {
    "deletable": false,
    "editable": false,
    "nbgrader": {
     "checksum": "6f0936c278257ca9c95c19c3bf93f77a",
     "grade": false,
     "grade_id": "cell-e2a1e6d01647fb35",
     "locked": true,
     "schema_version": 1,
     "solution": false
    }
   },
   "outputs": [],
   "source": [
    "print(trips.get('Fare')[0])\n",
    "print(type(trips.get('Fare')[0]))"
   ]
  },
  {
   "cell_type": "markdown",
   "metadata": {
    "deletable": false,
    "editable": false,
    "nbgrader": {
     "checksum": "70bf5c2217987291a0d9b73ed2b111e0",
     "grade": false,
     "grade_id": "cell-54e368fb73cbfb88",
     "locked": true,
     "schema_version": 1,
     "solution": false
    }
   },
   "source": [
    "We can see that the type of the fare is a `int`, which stands for \"integer\". This is good because this represents an appropriate type to perform numeric operations. Let's inspect the keys of the `trips` dictionary."
   ]
  },
  {
   "cell_type": "code",
   "execution_count": null,
   "metadata": {
    "deletable": false,
    "editable": false,
    "nbgrader": {
     "checksum": "1bd45aee99f8a15ffd0d5c50fad32b6e",
     "grade": false,
     "grade_id": "cell-3496ed42b50ce749",
     "locked": true,
     "schema_version": 1,
     "solution": false
    }
   },
   "outputs": [],
   "source": [
    "trips.keys()"
   ]
  },
  {
   "cell_type": "markdown",
   "metadata": {
    "deletable": false,
    "editable": false,
    "nbgrader": {
     "checksum": "410e78e4c82f073ee8673f479b7e5a18",
     "grade": false,
     "grade_id": "cell-bcd3a785c4f96f4d",
     "locked": true,
     "schema_version": 1,
     "solution": false
    }
   },
   "source": [
    "The `trips` dictionary holds information about a passenger's flight. Every key represents a column attribute in a data set. For example, the `Pax ID` key contains a list of unique numeric identifiers that can be used to identify which passenger took a particular flight. Other keys - such as `Fare` and `Departure Station` - represent the total amount paid by the customer and the customer's origin airport, respectively. Here is an example of the dictionary structure:\n",
    "\n",
    "```python\n",
    "{\n",
    "    'Itinerary': [1, 2, ..., 168453],\n",
    "    'Pilot ID': [137, 114, ..., 596],\n",
    "    'Pax ID': [18089, 10149, ..., 1103],\n",
    "    'Departure Station': ['PQI', 'ONT', ..., 'RNO'],\n",
    "    'Arrival Station': ['AMA', 'ATL', ..., 'AMA'],\n",
    "    'Fare': [187, 898, ..., 650]\n",
    "}\n",
    "```\n",
    "\n",
    "The table format equivalent of this would look like this:\n",
    "\n",
    "\n",
    "| Itinerary | Pilot ID | Pax ID | Departure Station | Arrival Station | Fare |\n",
    "| :-:       | :-:      | :-:    | :-:               | :-:             | :-:  |\n",
    "| 1         | 137      | 18089  | PQI               | AMA             | 187  |\n",
    "| 2         | 114      | 10149  | ONT               | ATL             | 898  |\n",
    "| ...       | ...      | ...    | ...               | ...             | ...  |\n",
    "| 168453    | 596      | 1103   | RNO               | AMA             | 650  |\n",
    "\t\t\t\t\n",
    "Here are the column/key descriptions:\n",
    "\n",
    "- **Itinerary**: Unique identifier for a passenger's trip (primary key)\n",
    "- **Pilot ID**: Unique identifier for the pilot that operated the flight (foriegn key)\n",
    "- **Pax ID**: Unique identifier for the passenger that paid for and flew the itinerary\n",
    "- **Departure Station**: The origin airport code of the flight segment\n",
    "- **Arrival Station**: The desitination airport code of the flight segment\n",
    "- **Fare**: The amount (USD) the passenger paid to purchase the flight ticket\n",
    "\n",
    "The next question will ask you to find the number of trips included in the `trips` dictionary."
   ]
  },
  {
   "cell_type": "markdown",
   "metadata": {
    "deletable": false,
    "editable": false,
    "nbgrader": {
     "checksum": "73eae1ce17dfd5fc8c265a93ba838b4e",
     "grade": false,
     "grade_id": "cell-355f54ab638fe55d",
     "locked": true,
     "schema_version": 1,
     "solution": false
    }
   },
   "source": [
    "### Problem 2: Determine the total number of trips taken\n",
    "\n",
    "**5 Points**\n",
    "\n",
    "Find the total number of itineraries that are contained in the trips dictionary. This can be achieved by using the `len()` function on one of the lists contained in the trips dictionary. Use the `len()` function on the value associated with the `Itinerary` key and assign the answer to `ans2`."
   ]
  },
  {
   "cell_type": "code",
   "execution_count": null,
   "metadata": {
    "deletable": false,
    "nbgrader": {
     "checksum": "171b1931f1e484e1425fbadf184fb688",
     "grade": false,
     "grade_id": "cell-f4ca8a3774b15428",
     "locked": false,
     "schema_version": 1,
     "solution": true
    }
   },
   "outputs": [],
   "source": [
    "### GRADED\n",
    "\n",
    "### YOUR SOLUTION HERE\n",
    "ans2 = None  # find number of itineraries\n",
    "\n",
    "# YOUR CODE HERE\n",
    "raise NotImplementedError()\n",
    "\n",
    "# Answer check\n",
    "print(\"Your answer:\\t\", ans2)"
   ]
  },
  {
   "cell_type": "code",
   "execution_count": null,
   "metadata": {
    "deletable": false,
    "editable": false,
    "nbgrader": {
     "checksum": "ee2723e20f7c474557cf206927c09c08",
     "grade": true,
     "grade_id": "cell-0922a8cb99250164",
     "locked": true,
     "points": 5,
     "schema_version": 1,
     "solution": false
    }
   },
   "outputs": [],
   "source": []
  },
  {
   "cell_type": "markdown",
   "metadata": {
    "deletable": false,
    "editable": false,
    "nbgrader": {
     "checksum": "2d54d4824664111edf05f2d2a42a7981",
     "grade": false,
     "grade_id": "cell-4b553c19f8eca938",
     "locked": true,
     "schema_version": 1,
     "solution": false
    }
   },
   "source": [
    "### The `pilots` dictionary\n",
    "\n",
    "The goal of this analysis is to find the top customers for each airline. Let's find out how many unique airlines are contained in this data. To determine this, we will need to inspect the the `pilots` dictionary.\n",
    "\n",
    "The `pilots` dictionary holds information about the pilots available to fly the aircrafts for each airline. Just as the `trips` dictionary, every key represents a column attribute in a data set. The key/column descriptions arae described below:\n",
    "\n",
    "- **Pilot ID**: Unique identifier for a pilot (primary key)\n",
    "- **Name**: The pilot's name\n",
    "- **Airline**: The airline that employs the pilot\n",
    "\n",
    "Here is an example of the dictionary structure:\n",
    "\n",
    "```python\n",
    "{\n",
    "    'Pilot ID': [1, 2, ..., 850],\n",
    "    'Name': ['J. Koehler', 'Y. Fan', ..., 'D. Deno'],\n",
    "    'Airline': ['Delta', 'American', ..., 'American']\n",
    "}\n",
    "```\n",
    "\n",
    "The table format equivalent of this would look like this:\n",
    "\n",
    "\n",
    "| Pilot ID | Name       | Airline  | \n",
    "| :-:      | :-:        | :-:      | \n",
    "| 1        | J. Koehler | Delta    | \n",
    "| 2        | Y. Fan     | American |\n",
    "| ...      | ...        | ...      |\n",
    "| 850      | D. Deno    | American |\n",
    "\t\t\t\t\n"
   ]
  },
  {
   "cell_type": "markdown",
   "metadata": {
    "deletable": false,
    "editable": false,
    "nbgrader": {
     "checksum": "4dcf540f73028c96dcb2978d83ae73fc",
     "grade": false,
     "grade_id": "cell-c89ff5a4baa43cb9",
     "locked": true,
     "schema_version": 1,
     "solution": false
    }
   },
   "source": [
    "Notice that both the `pilots` and `trips` dictionaries have a common key: `Pilot ID`. We can use this common key to add the Airline name to the `trips` data."
   ]
  },
  {
   "cell_type": "markdown",
   "metadata": {
    "deletable": false,
    "editable": false,
    "nbgrader": {
     "checksum": "9c44a405d5c0618ac92c982a6e509405",
     "grade": false,
     "grade_id": "cell-2ae1d808b2569438",
     "locked": true,
     "schema_version": 1,
     "solution": false
    }
   },
   "source": [
    "### Problem 3: Create a new key using a `for` loop"
   ]
  },
  {
   "cell_type": "markdown",
   "metadata": {
    "deletable": false,
    "editable": false,
    "nbgrader": {
     "checksum": "e0f085b0b5eea55879313533f8bf9246",
     "grade": false,
     "grade_id": "cell-c7e9d482e827da04",
     "locked": true,
     "schema_version": 1,
     "solution": false
    }
   },
   "source": [
    "**5 Points**\n",
    "\n",
    "Using the `trips` dictionary, complete the code below to create a new key called `'Airline'` in the `trips` dictionary.\n",
    "\n",
    "There are a number of ways to achieve this, but a straight forward approach is described below in pseudocode:\n",
    "\n",
    "1. Create the `Airline` key in the `trips` dictionary by assigning an empty list as its value\n",
    "2. Loop through the indices of the Pilot ID values within the `trips` dictionary\n",
    "3. Select the pilot ID number and save to a variable `pilot_idx`\n",
    "4. Use the Pilot ID to select the name of the airline listed in the `pilots` dictionary\n",
    "5. Append the airline name to the empty list in the `trips` dictionary\n",
    "\n",
    "The resulting dictionary should look similar to this:\n",
    "```python\n",
    "{\n",
    "    'Itinerary': [0, 1, 2],\n",
    "    'Pilot ID': [136, 113, 60],\n",
    "    'Pax ID': [18088, 10148, 5172],\n",
    "    'Departure Station': ['PQI', 'ONT', 'OTH'],\n",
    "    'Arrival Station': ['AMA', 'ATL', 'SFO'],\n",
    "    'Fare': [187, 898, 254],\n",
    "    'Airline': ['JetBlue', 'United', 'Delta']\n",
    "}\n",
    "```"
   ]
  },
  {
   "cell_type": "code",
   "execution_count": null,
   "metadata": {
    "deletable": false,
    "nbgrader": {
     "checksum": "dd0945ccbe6344d6ec413ffbaafe599d",
     "grade": false,
     "grade_id": "cell-d46708af99f4d022",
     "locked": false,
     "schema_version": 1,
     "solution": true
    }
   },
   "outputs": [],
   "source": [
    "### GRADED\n",
    "\n",
    "### YOUR SOLUTION HERE\n",
    "trips['Airline'] = []\n",
    "for idx in range(len(trips.get('Pilot ID'))):\n",
    "    pilot_idx = trips.get('Pilot ID')[idx]\n",
    "    pilots.get('Airline')[pilot_idx]\n",
    "    airline_name = pilots.get('Airline')[pilot_idx]\n",
    "    trips.get('Airline').append(None)    ### <-- complete this line\n",
    "\n",
    "# YOUR CODE HERE\n",
    "raise NotImplementedError()\n",
    "\n",
    "# Answer check\n",
    "response = {k:v[:3] for k, v in trips.items()}\n",
    "expected = {\n",
    "    'Itinerary': [0, 1, 2], \n",
    "    'Pilot ID': [136, 113, 60], \n",
    "    'Pax ID': [18088, 10148, 5172], \n",
    "    'Departure Station': ['PQI', 'ONT', 'OTH'], \n",
    "    'Arrival Station': ['AMA', 'ATL', 'SFO'], \n",
    "    'Fare': [187, 898, 254], \n",
    "    'Airline': ['JetBlue', 'United', 'Delta']\n",
    "}\n",
    "print(\"Your answer:\\t\", response, '\\n')\n",
    "print(\"Expected:\\t\", expected, '\\n')"
   ]
  },
  {
   "cell_type": "code",
   "execution_count": null,
   "metadata": {
    "deletable": false,
    "editable": false,
    "nbgrader": {
     "checksum": "b66c43e71a9f4ba6b2afc594b05a3385",
     "grade": true,
     "grade_id": "cell-e139e5e8ef909947",
     "locked": true,
     "points": 5,
     "schema_version": 1,
     "solution": false
    }
   },
   "outputs": [],
   "source": []
  },
  {
   "cell_type": "markdown",
   "metadata": {
    "deletable": false,
    "editable": false,
    "nbgrader": {
     "checksum": "baea1540bd3f051d00f441b1c7ebf316",
     "grade": false,
     "grade_id": "cell-28cfc0d53be06342",
     "locked": true,
     "schema_version": 1,
     "solution": false
    }
   },
   "source": [
    "### Problem 4: Populate a new dictionary `customer_fares` that sums the total fares for unique customers\n",
    "\n",
    "**5 Points**\n",
    "\n",
    "Complete the two lines of code below to create a dictionary that stores customer-airline fare totals. The keys of the dictionary will be a tuple in the form of `(customer_id, airline)`. The values will be the sums of all the fares that customer has paid the at that airline.\n",
    "\n",
    "Assign the final dictionary to the variable `customer_fares`."
   ]
  },
  {
   "cell_type": "code",
   "execution_count": null,
   "metadata": {
    "deletable": false,
    "nbgrader": {
     "checksum": "48879b958e2ce0f2249df35d9e84e027",
     "grade": false,
     "grade_id": "cell-d2f098d7f86916ef",
     "locked": false,
     "schema_version": 1,
     "solution": true
    }
   },
   "outputs": [],
   "source": [
    "### GRADED\n",
    "\n",
    "### YOUR SOLUTION HERE\n",
    "\n",
    "# select values for passenger, fares, and airlines\n",
    "passenger = trips.get('Pax ID')\n",
    "fares = trips.get('Fare')\n",
    "airline = trips.get('Airline')\n",
    "\n",
    "customer_fares = {}\n",
    "for pax, fare, air in zip(passenger, fares, airline):\n",
    "    key = (pax, air)                  # create (passenger, airline) tuple as key\n",
    "    value = fare                      # assign the fare as the value\n",
    "    if key in customer_fares:         # if customer exists in dictionary...\n",
    "        customer_fares[key] += 0      # <--- complete this line\n",
    "    else:                             # ...if customer does not exist in dict...\n",
    "        customer_fares[key] = 0       # <-- complete this line\n",
    "\n",
    "# YOUR CODE HERE\n",
    "raise NotImplementedError()"
   ]
  },
  {
   "cell_type": "code",
   "execution_count": null,
   "metadata": {
    "deletable": false,
    "editable": false,
    "nbgrader": {
     "checksum": "344e0785c6dbd3e2aae2c23fb0bcabbe",
     "grade": true,
     "grade_id": "cell-c875852e98c00403",
     "locked": true,
     "points": 5,
     "schema_version": 1,
     "solution": false
    }
   },
   "outputs": [],
   "source": []
  },
  {
   "cell_type": "markdown",
   "metadata": {
    "deletable": false,
    "editable": false,
    "nbgrader": {
     "checksum": "f10eff94706b20ac977a98a0e3371843",
     "grade": false,
     "grade_id": "cell-2311ed1452dd6f96",
     "locked": true,
     "schema_version": 1,
     "solution": false
    }
   },
   "source": [
    "### Problem 5: \n",
    "\n",
    "**5 Points**\n",
    "\n",
    "Now that we have a dictionary callled `customer_fares` that looks like this:\n",
    "\n",
    "```python\n",
    "print(customer_fares)\n",
    "{(18088, 'JetBlue'): 187, (10148, 'United'): 898, ..., (7411, 'American'): 693}\n",
    " ```\n",
    "\n",
    "The keys are tuples with unique (`Passenger ID`, `Airline`) combinations. Let's write a function that accepts a dictionary object in this format and outputs a dictionary in the following format:\n",
    "\n",
    "```python\n",
    "print(top_five_customers)\n",
    "{\n",
    "    'JetBlue':  [('Passenger1': 'TotalFare'), ... ,('Passenger5': 'TotalFare')], \n",
    "    'United':   [('Passenger1': 'TotalFare'), ... ,('Passenger5': 'TotalFare')],\n",
    "    'American': [('Passenger1': 'TotalFare'), ... ,('Passenger5': 'TotalFare')],\n",
    "    'Delta':   [('Passenger1': 'TotalFare'), ... ,('Passenger5': 'TotalFare')]\n",
    "}\n",
    " ```"
   ]
  },
  {
   "cell_type": "markdown",
   "metadata": {
    "deletable": false,
    "editable": false,
    "nbgrader": {
     "checksum": "e14a992b531d7f0aaae1f096ab60c706",
     "grade": false,
     "grade_id": "cell-30dc5a672f6836ac",
     "locked": true,
     "schema_version": 1,
     "solution": false
    }
   },
   "source": [
    "In order to acheive this, we will need to sort each (`Passenger ID`, `Fare`) tuple by the `Fare` in descending order. In order to do this, we need to create a small function that accepts a tuple with two items and returns the second item. Complete the function below named `return_second_item`."
   ]
  },
  {
   "cell_type": "code",
   "execution_count": null,
   "metadata": {
    "deletable": false,
    "nbgrader": {
     "checksum": "be126dbce85279d573b0b4e656415970",
     "grade": false,
     "grade_id": "cell-6566c8173f4f2657",
     "locked": false,
     "schema_version": 1,
     "solution": true
    }
   },
   "outputs": [],
   "source": [
    "### GRADED\n",
    "\n",
    "### YOUR SOLUTION HERE\n",
    "def return_second_item(tuple_obj):\n",
    "    pass  # <-- return the second item in the tuple\n",
    "\n",
    "# YOUR CODE HERE\n",
    "raise NotImplementedError()\n",
    "\n",
    "# Answer check\n",
    "sample_data = ('Passenger1', 100)\n",
    "response = return_second_item(sample_data)\n",
    "expected = return_second_item(sample_data)\n",
    "print(\"Your answer:\\t\", response, '\\n')\n",
    "print(\"Expected:\\t\", expected, '\\n')"
   ]
  },
  {
   "cell_type": "code",
   "execution_count": null,
   "metadata": {
    "deletable": false,
    "editable": false,
    "nbgrader": {
     "checksum": "3da57e4f2f98d270860479db48f2d380",
     "grade": true,
     "grade_id": "cell-551a591c508e0369",
     "locked": true,
     "points": 5,
     "schema_version": 1,
     "solution": false
    }
   },
   "outputs": [],
   "source": []
  },
  {
   "cell_type": "markdown",
   "metadata": {
    "deletable": false,
    "editable": false,
    "nbgrader": {
     "checksum": "760ddcdb55695b3ba545dd52ac41eaef",
     "grade": false,
     "grade_id": "cell-c48ef0c8bd039400",
     "locked": true,
     "schema_version": 1,
     "solution": false
    }
   },
   "source": [
    "### Final results\n",
    "\n",
    "If the function above is coded correctly, the function below should run and produce the desired output. A benefit of writing your code within functions is that you can repeat this analysis easily by simply reusing these functions with new data. Should you need to know this information again next month or next year, you simply need to append the new data and re-run this script. It makes repeating the analysis very convenient!"
   ]
  },
  {
   "cell_type": "code",
   "execution_count": null,
   "metadata": {
    "deletable": false,
    "editable": false,
    "nbgrader": {
     "checksum": "a96bdc09347b8868f86381cb9a235e32",
     "grade": false,
     "grade_id": "cell-a31ecc08327fc0f9",
     "locked": true,
     "schema_version": 1,
     "solution": false
    }
   },
   "outputs": [],
   "source": [
    "def find_top_customers(customer_fare_dict):\n",
    "    united_list = []\n",
    "    delta_list = []\n",
    "    jetblue_list = []\n",
    "    american_list = []\n",
    "    output_dict = {\n",
    "        'United': united_list,\n",
    "        'Delta': delta_list,\n",
    "        'JetBlue': jetblue_list,\n",
    "        'American': american_list,\n",
    "    }\n",
    "    for cust_air_tuple, fare in customer_fare_dict.items():\n",
    "        customer_id = cust_air_tuple[0]\n",
    "        customer_name = passengers.get('Name')[customer_id]\n",
    "        airline = cust_air_tuple[1]\n",
    "        if airline == 'United':\n",
    "            united_list.append((customer_name, fare))\n",
    "        elif airline == 'Delta':\n",
    "            delta_list.append((customer_name, fare))\n",
    "        elif airline == 'JetBlue':\n",
    "            jetblue_list.append((customer_name, fare))\n",
    "        else:\n",
    "            american_list.append((customer_name, fare))\n",
    "    for airline_key in output_dict.keys():\n",
    "        output_dict[airline_key] = sorted(united_list, key=return_second_item, reverse=True)[:5]\n",
    "    return output_dict"
   ]
  },
  {
   "cell_type": "code",
   "execution_count": null,
   "metadata": {
    "deletable": false,
    "editable": false,
    "nbgrader": {
     "checksum": "c68046c1ad32bad6d81efc3ce5241866",
     "grade": false,
     "grade_id": "cell-4af84ab4f97618b9",
     "locked": true,
     "schema_version": 1,
     "solution": false
    }
   },
   "outputs": [],
   "source": [
    "find_top_customers(customer_fares)"
   ]
  },
  {
   "cell_type": "code",
   "execution_count": null,
   "metadata": {},
   "outputs": [],
   "source": [
    "# {k:v[-1] for k,v in pilots.items()}\n",
    "# pd.DataFrame().from_dict(pilots).head(2)\n",
    "# pd.DataFrame().from_dict(pilots).tail(1)\n",
    "\n",
    "# trip_sample2 = pd.DataFrame().from_dict(trips).sample(5)\n",
    "# trip_sample2.to_dict(orient='list')"
   ]
  },
  {
   "cell_type": "code",
   "execution_count": null,
   "metadata": {},
   "outputs": [],
   "source": [
    "# pilots2 = pd.read_excel(PATH, sheet_name='Pilots').to_dict(orient='records')\n",
    "# trips2 = pd.read_excel(PATH, sheet_name='Trips').to_dict(orient='records')\n",
    "# temp = pd.DataFrame().from_dict(trips).sample(5).to_dict(orient='list')\n",
    "# temp"
   ]
  },
  {
   "cell_type": "code",
   "execution_count": null,
   "metadata": {},
   "outputs": [],
   "source": [
    "# trips_sample2 = {\n",
    "#     'Itinerary': [110182, 49355, 26070, 145553, 115890],\n",
    "#     'Pilot ID': [156, 110, 368, 833, 311],\n",
    "#     'Pax ID': [10183, 10463, 11090, 20060, 5147],\n",
    "#     'Departure Station': ['HRL', 'CGI', 'BRO', 'SPI', 'FCA'],\n",
    "#     'Arrival Station': ['MCO', 'MCW', 'LGA', 'BIS', 'MSY'],\n",
    "#     'Fare': [668, 389, 384, 136, 607]\n",
    "# }\n",
    "# trip_sample3 = pd.DataFrame().from_dict(trip_sample2).to_dict(orient='records')\n",
    "# trips_sample2"
   ]
  },
  {
   "cell_type": "code",
   "execution_count": null,
   "metadata": {},
   "outputs": [],
   "source": [
    "# pilots['Airline'][368]"
   ]
  },
  {
   "cell_type": "code",
   "execution_count": null,
   "metadata": {},
   "outputs": [],
   "source": [
    "# print(pilots.get('Pilot ID')[pilot_idx])\n",
    "# print(pilots.get('Airline')[pilot_idx])"
   ]
  },
  {
   "cell_type": "code",
   "execution_count": null,
   "metadata": {},
   "outputs": [],
   "source": [
    "# pilot_df = pd.DataFrame().from_dict(pilots)\n",
    "# pilot_df.loc[311, :]"
   ]
  },
  {
   "cell_type": "code",
   "execution_count": null,
   "metadata": {},
   "outputs": [],
   "source": [
    "# print('Index\\t', 'Pilot ID\\t', 'Airline\\t')\n",
    "# print('---------------------------------')\n",
    "\n",
    "# for i in range(len(trips_sample2.get('Pilot ID'))):\n",
    "#     pilot_index = trips_sample2.get('Pilot ID')[i]\n",
    "#     print(i, '\\t', pilot_index, '\\t\\t', pilots['Airline'][pilot_index])"
   ]
  },
  {
   "cell_type": "code",
   "execution_count": null,
   "metadata": {},
   "outputs": [],
   "source": [
    "# {k:v[:5] for k,v in pilots.items()}"
   ]
  },
  {
   "cell_type": "code",
   "execution_count": null,
   "metadata": {},
   "outputs": [],
   "source": [
    "# for i in range(len(trips_sample2.get('Pilot ID'))):\n",
    "#     print(i, trips_sample2.get('Pilot ID')[i])"
   ]
  }
 ],
 "metadata": {
  "kernelspec": {
   "display_name": "Python 3",
   "language": "python",
   "name": "python3"
  },
  "language_info": {
   "codemirror_mode": {
    "name": "ipython",
    "version": 3
   },
   "file_extension": ".py",
   "mimetype": "text/x-python",
   "name": "python",
   "nbconvert_exporter": "python",
   "pygments_lexer": "ipython3",
   "version": "3.6.9"
  },
  "widgets": {
   "application/vnd.jupyter.widget-state+json": {
    "state": {},
    "version_major": 2,
    "version_minor": 0
   }
  }
 },
 "nbformat": 4,
 "nbformat_minor": 4
}

{
 "cells": [
  {
   "cell_type": "code",
   "execution_count": 1,
   "id": "e0326735",
   "metadata": {},
   "outputs": [
    {
     "name": "stdout",
     "output_type": "stream",
     "text": [
      "hello world!\n"
     ]
    }
   ],
   "source": [
    "print('hello world!')"
   ]
  },
  {
   "cell_type": "code",
   "execution_count": null,
   "id": "4af31e5e",
   "metadata": {},
   "outputs": [],
   "source": []
  }
 ],
 "metadata": {
  "kernelspec": {
   "display_name": "Python 3",
   "language": "python",
   "name": "python3"
  },
  "language_info": {
   "codemirror_mode": {
    "name": "ipython",
    "version": 3
   },
   "file_extension": ".py",
   "mimetype": "text/x-python",
   "name": "python",
   "nbconvert_exporter": "python",
   "pygments_lexer": "ipython3",
   "version": "3.6.15"
  }
 },
 "nbformat": 4,
 "nbformat_minor": 5
}
| Date | Closing Amount |
| :-: | :-: |
| Dec 31, 2021 | 1,073.44 |
| Dec 30, 2021 | 1,061.33 |
| Dec 29, 2021 | 1,098.64 |
| Dec 28, 2021 | 1,109.49 |
| Dec 27, 2012 | 1,073.67 | 
